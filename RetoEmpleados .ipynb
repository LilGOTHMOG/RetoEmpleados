{
  "metadata": {
    "language_info": {
      "codemirror_mode": {
        "name": "python",
        "version": 3
      },
      "file_extension": ".py",
      "mimetype": "text/x-python",
      "name": "python",
      "nbconvert_exporter": "python",
      "pygments_lexer": "ipython3",
      "version": "3.8"
    },
    "kernelspec": {
      "name": "python",
      "display_name": "Python (Pyodide)",
      "language": "python"
    }
  },
  "nbformat_minor": 4,
  "nbformat": 4,
  "cells": [
    {
      "cell_type": "code",
      "source": "import pandas as pd",
      "metadata": {
        "trusted": true
      },
      "execution_count": 1,
      "outputs": []
    },
    {
      "cell_type": "code",
      "source": "path='empleadosRETO.csv'\nquery=pd.read_csv(path)\nEmpleadosAttrition=query",
      "metadata": {
        "trusted": true
      },
      "execution_count": 2,
      "outputs": []
    },
    {
      "cell_type": "code",
      "source": "col_names=EmpleadosAttrition.columns\nprint(col_names)",
      "metadata": {
        "trusted": true
      },
      "execution_count": 3,
      "outputs": [
        {
          "name": "stdout",
          "text": "Index(['Age', 'BusinessTravel', 'Department', 'DistanceFromHome', 'Education',\n       'EducationField', 'EmployeeCount', 'EmployeeNumber',\n       'EnvironmentSatisfaction', 'Gender', 'JobInvolvement', 'JobLevel',\n       'JobRole', 'JobSatisfaction', 'MaritalStatus', 'MonthlyIncome',\n       'NumCompaniesWorked', 'HiringDate', 'Over18', 'OverTime',\n       'PercentSalaryHike', 'PerformanceRating', 'RelationshipSatisfaction',\n       'StandardHours', 'TotalWorkingYears', 'TrainingTimesLastYear',\n       'WorkLifeBalance', 'YearsInCurrentRole', 'YearsSinceLastPromotion',\n       'Attrition'],\n      dtype='object')\n",
          "output_type": "stream"
        }
      ]
    },
    {
      "cell_type": "code",
      "source": "print(EmpleadosAttrition[['EmployeeCount','EmployeeNumber','Over18','StandardHours']].head(10))",
      "metadata": {
        "trusted": true
      },
      "execution_count": 4,
      "outputs": [
        {
          "name": "stdout",
          "text": "   EmployeeCount  EmployeeNumber Over18  StandardHours\n0              1             997      Y             80\n1              1             178      Y             80\n2              1            1780      Y             80\n3              1            1118      Y             80\n4              1             582      Y             80\n5              1            1827      Y             80\n6              1             872      Y             80\n7              1            1681      Y             80\n8              1             215      Y             80\n9              1            1371      Y             80\n",
          "output_type": "stream"
        }
      ]
    },
    {
      "cell_type": "code",
      "source": "EmpleadosAttrition.drop(['EmployeeCount','EmployeeNumber','Over18','StandardHours'], axis=1, inplace=True)",
      "metadata": {
        "trusted": true
      },
      "execution_count": 5,
      "outputs": []
    },
    {
      "cell_type": "code",
      "source": "print(EmpleadosAttrition.columns)",
      "metadata": {
        "trusted": true
      },
      "execution_count": 6,
      "outputs": [
        {
          "name": "stdout",
          "text": "Index(['Age', 'BusinessTravel', 'Department', 'DistanceFromHome', 'Education',\n       'EducationField', 'EnvironmentSatisfaction', 'Gender', 'JobInvolvement',\n       'JobLevel', 'JobRole', 'JobSatisfaction', 'MaritalStatus',\n       'MonthlyIncome', 'NumCompaniesWorked', 'HiringDate', 'OverTime',\n       'PercentSalaryHike', 'PerformanceRating', 'RelationshipSatisfaction',\n       'TotalWorkingYears', 'TrainingTimesLastYear', 'WorkLifeBalance',\n       'YearsInCurrentRole', 'YearsSinceLastPromotion', 'Attrition'],\n      dtype='object')\n",
          "output_type": "stream"
        }
      ]
    },
    {
      "cell_type": "code",
      "source": "print(EmpleadosAttrition['HiringDate'].str[-4:].sort_values(ascending=False))",
      "metadata": {
        "trusted": true
      },
      "execution_count": 7,
      "outputs": [
        {
          "name": "stdout",
          "text": "75     2018\n159    2018\n347    2018\n42     2018\n343    2018\n       ... \n28     1993\n302    1992\n270    1991\n284    1989\n143    1985\nName: HiringDate, Length: 400, dtype: object\n",
          "output_type": "stream"
        }
      ]
    },
    {
      "cell_type": "code",
      "source": "EmpleadosAttrition['Year']=EmpleadosAttrition['HiringDate'].str[-4:].astype(int)\nprint(EmpleadosAttrition['Year'].sort_values(ascending=True))\n#print(EmpleadosAttrition['HiringDate'])",
      "metadata": {
        "trusted": true
      },
      "execution_count": 8,
      "outputs": [
        {
          "name": "stdout",
          "text": "143    1985\n284    1989\n270    1991\n302    1992\n28     1993\n       ... \n213    2018\n75     2018\n42     2018\n343    2018\n349    2018\nName: Year, Length: 400, dtype: int32\n",
          "output_type": "stream"
        }
      ]
    },
    {
      "cell_type": "code",
      "source": "print(EmpleadosAttrition['TotalWorkingYears'].head(15).sort_values(ascending=False))",
      "metadata": {
        "trusted": true
      },
      "execution_count": 9,
      "outputs": [
        {
          "name": "stdout",
          "text": "0     32\n5     28\n14    26\n11    23\n3     18\n13    17\n4     15\n8     15\n9      8\n10     8\n1      7\n7      7\n12     5\n6      4\n2      1\nName: TotalWorkingYears, dtype: int64\n",
          "output_type": "stream"
        }
      ]
    },
    {
      "cell_type": "code",
      "source": "EmpleadosAttrition['YearsAtCompany']=2018-EmpleadosAttrition['Year']\nprint(EmpleadosAttrition[\"YearsAtCompany\"].head(35))",
      "metadata": {
        "trusted": true
      },
      "execution_count": 10,
      "outputs": [
        {
          "name": "stdout",
          "text": "0      5\n1      3\n2      1\n3      8\n4      7\n5     22\n6      2\n7      6\n8     12\n9      6\n10     1\n11     3\n12     2\n13    14\n14    11\n15     9\n16     9\n17    15\n18    21\n19    17\n20     9\n21     3\n22     5\n23     0\n24     1\n25     4\n26     1\n27     5\n28    25\n29     1\n30    10\n31     5\n32    20\n33    10\n34     0\nName: YearsAtCompany, dtype: int32\n",
          "output_type": "stream"
        }
      ]
    },
    {
      "cell_type": "code",
      "source": "EmpleadosAttrition=EmpleadosAttrition.rename(columns={'DistanceFromHome':'DistanceFromHome_Km'})",
      "metadata": {
        "trusted": true
      },
      "execution_count": 11,
      "outputs": []
    },
    {
      "cell_type": "code",
      "source": "print(EmpleadosAttrition.columns)",
      "metadata": {
        "trusted": true
      },
      "execution_count": 12,
      "outputs": [
        {
          "name": "stdout",
          "text": "Index(['Age', 'BusinessTravel', 'Department', 'DistanceFromHome_Km',\n       'Education', 'EducationField', 'EnvironmentSatisfaction', 'Gender',\n       'JobInvolvement', 'JobLevel', 'JobRole', 'JobSatisfaction',\n       'MaritalStatus', 'MonthlyIncome', 'NumCompaniesWorked', 'HiringDate',\n       'OverTime', 'PercentSalaryHike', 'PerformanceRating',\n       'RelationshipSatisfaction', 'TotalWorkingYears',\n       'TrainingTimesLastYear', 'WorkLifeBalance', 'YearsInCurrentRole',\n       'YearsSinceLastPromotion', 'Attrition', 'Year', 'YearsAtCompany'],\n      dtype='object')\n",
          "output_type": "stream"
        }
      ]
    },
    {
      "cell_type": "code",
      "source": "print(EmpleadosAttrition['DistanceFromHome_Km'].head(10))",
      "metadata": {
        "trusted": true
      },
      "execution_count": 13,
      "outputs": [
        {
          "name": "stdout",
          "text": "0     1 km\n1     6 km\n2     7 km\n3     7 km\n4    15 km\n5     4 km\n6     1 km\n7    16 km\n8     4 km\n9     2 km\nName: DistanceFromHome_Km, dtype: object\n",
          "output_type": "stream"
        }
      ]
    },
    {
      "cell_type": "code",
      "source": "EmpleadosAttrition['DistanceFromHome']=EmpleadosAttrition['DistanceFromHome_Km'].str[:2].astype(int)\nprint(EmpleadosAttrition['DistanceFromHome'].head(10))",
      "metadata": {
        "trusted": true
      },
      "execution_count": 14,
      "outputs": [
        {
          "name": "stdout",
          "text": "0     1\n1     6\n2     7\n3     7\n4    15\n5     4\n6     1\n7    16\n8     4\n9     2\nName: DistanceFromHome, dtype: int32\n",
          "output_type": "stream"
        }
      ]
    },
    {
      "cell_type": "code",
      "source": "EmpleadosAttrition.drop(['Year','HiringDate','DistanceFromHome_Km'], axis=1, inplace=True)\nprint(EmpleadosAttrition.columns)",
      "metadata": {
        "trusted": true
      },
      "execution_count": 15,
      "outputs": [
        {
          "name": "stdout",
          "text": "Index(['Age', 'BusinessTravel', 'Department', 'Education', 'EducationField',\n       'EnvironmentSatisfaction', 'Gender', 'JobInvolvement', 'JobLevel',\n       'JobRole', 'JobSatisfaction', 'MaritalStatus', 'MonthlyIncome',\n       'NumCompaniesWorked', 'OverTime', 'PercentSalaryHike',\n       'PerformanceRating', 'RelationshipSatisfaction', 'TotalWorkingYears',\n       'TrainingTimesLastYear', 'WorkLifeBalance', 'YearsInCurrentRole',\n       'YearsSinceLastPromotion', 'Attrition', 'YearsAtCompany',\n       'DistanceFromHome'],\n      dtype='object')\n",
          "output_type": "stream"
        }
      ]
    },
    {
      "cell_type": "code",
      "source": "#imp=EmpleadosAttrition['Department'].where(EmpleadosAttrition['Department']!='Research & Development')\n\nprint(EmpleadosAttrition['Department'])\n\nSueldoPromDepto=EmpleadosAttrition[['MonthlyIncome','Department']]\nprint(SueldoPromDepto)",
      "metadata": {
        "trusted": true
      },
      "execution_count": 16,
      "outputs": [
        {
          "name": "stdout",
          "text": "0      Research & Development\n1      Research & Development\n2                       Sales\n3      Research & Development\n4      Research & Development\n                ...          \n395    Research & Development\n396                     Sales\n397    Research & Development\n398    Research & Development\n399    Research & Development\nName: Department, Length: 400, dtype: object\n     MonthlyIncome              Department\n0            17399  Research & Development\n1             4941  Research & Development\n2             2679                   Sales\n3            10445  Research & Development\n4            13610  Research & Development\n..             ...                     ...\n395           2436  Research & Development\n396           4559                   Sales\n397          12185  Research & Development\n398           3306  Research & Development\n399           2756  Research & Development\n\n[400 rows x 2 columns]\n",
          "output_type": "stream"
        }
      ]
    },
    {
      "cell_type": "code",
      "source": "SueldoPromedio=SueldoPromDepto.groupby('Department').mean()\nprint(SueldoPromedio)\n",
      "metadata": {
        "trusted": true
      },
      "execution_count": 17,
      "outputs": [
        {
          "name": "stdout",
          "text": "                        MonthlyIncome\nDepartment                           \nHuman Resources           6239.888889\nResearch & Development    6804.149813\nSales                     7188.250000\n",
          "output_type": "stream"
        }
      ]
    },
    {
      "cell_type": "code",
      "source": "print(EmpleadosAttrition['MonthlyIncome'])\nEmpleadosAttrition['MonthlyIncome_Norm']=EmpleadosAttrition['MonthlyIncome']/EmpleadosAttrition['MonthlyIncome'].abs().max()\n#print('\\n',EmpleadosAttrition['MonthlyIncome_Norm'].head(20))\nprint('\\n',round(EmpleadosAttrition['MonthlyIncome_Norm'], 4).head(40))",
      "metadata": {
        "trusted": true
      },
      "execution_count": 18,
      "outputs": [
        {
          "name": "stdout",
          "text": "0      17399\n1       4941\n2       2679\n3      10445\n4      13610\n       ...  \n395     2436\n396     4559\n397    12185\n398     3306\n399     2756\nName: MonthlyIncome, Length: 400, dtype: int64\n\n 0     0.8711\n1     0.2474\n2     0.1341\n3     0.5230\n4     0.6814\n5     0.5173\n6     0.2391\n7     0.2688\n8     0.5435\n9     0.2539\n10    0.1205\n11    0.5495\n12    0.1158\n13    0.5312\n14    0.9407\n15    0.4969\n16    0.2317\n17    0.2707\n18    0.9930\n19    0.7436\n20    0.2739\n21    0.2020\n22    0.3050\n23    0.0802\n24    0.3070\n25    0.3035\n26    0.0505\n27    0.1085\n28    0.7178\n29    0.2214\n30    0.1568\n31    0.1173\n32    0.8596\n33    0.2658\n34    0.1311\n35    0.2834\n36    0.4696\n37    0.5559\n38    0.4769\n39    0.3945\nName: MonthlyIncome_Norm, dtype: float64\n",
          "output_type": "stream"
        }
      ]
    },
    {
      "cell_type": "code",
      "source": "#print('\\n',EmpleadosAttrition[['BusinessTravel','Department','EducationField','Gender','JobRole','MaritalStatus','Attrition']].head(40))\n\ncorr=EmpleadosAttrition[['BusinessTravel','Department','EducationField','Gender','JobRole','MaritalStatus','Attrition']].apply(lambda x: pd.factorize(x)[0]).head(40)\nprint(EmpleadosAttrition.columns)\n\n#print(EmpleadosAttrition[['BusinessTravel','Department','EducationField','Gender','JobRole','MaritalStatus','Attrition']].astype(int))",
      "metadata": {
        "trusted": true
      },
      "execution_count": 19,
      "outputs": [
        {
          "name": "stdout",
          "text": "Index(['Age', 'BusinessTravel', 'Department', 'Education', 'EducationField',\n       'EnvironmentSatisfaction', 'Gender', 'JobInvolvement', 'JobLevel',\n       'JobRole', 'JobSatisfaction', 'MaritalStatus', 'MonthlyIncome',\n       'NumCompaniesWorked', 'OverTime', 'PercentSalaryHike',\n       'PerformanceRating', 'RelationshipSatisfaction', 'TotalWorkingYears',\n       'TrainingTimesLastYear', 'WorkLifeBalance', 'YearsInCurrentRole',\n       'YearsSinceLastPromotion', 'Attrition', 'YearsAtCompany',\n       'DistanceFromHome', 'MonthlyIncome_Norm'],\n      dtype='object')\n",
          "output_type": "stream"
        }
      ]
    },
    {
      "cell_type": "code",
      "source": "print(EmpleadosAttrition.columns)\nprint(EmpleadosAttrition['Attrition'])\nprint(corr)",
      "metadata": {
        "trusted": true
      },
      "execution_count": 20,
      "outputs": [
        {
          "name": "stdout",
          "text": "Index(['Age', 'BusinessTravel', 'Department', 'Education', 'EducationField',\n       'EnvironmentSatisfaction', 'Gender', 'JobInvolvement', 'JobLevel',\n       'JobRole', 'JobSatisfaction', 'MaritalStatus', 'MonthlyIncome',\n       'NumCompaniesWorked', 'OverTime', 'PercentSalaryHike',\n       'PerformanceRating', 'RelationshipSatisfaction', 'TotalWorkingYears',\n       'TrainingTimesLastYear', 'WorkLifeBalance', 'YearsInCurrentRole',\n       'YearsSinceLastPromotion', 'Attrition', 'YearsAtCompany',\n       'DistanceFromHome', 'MonthlyIncome_Norm'],\n      dtype='object')\n0       No\n1       No\n2      Yes\n3       No\n4      Yes\n      ... \n395    Yes\n396    Yes\n397     No\n398     No\n399     No\nName: Attrition, Length: 400, dtype: object\n    BusinessTravel  Department  EducationField  Gender  JobRole  \\\n0                0           0               0       0        0   \n1                0           0               0       0        1   \n2                0           1               1       0        2   \n3                0           0               2       0        3   \n4                0           0               0       0        4   \n5                0           0               2       1        1   \n6                0           0               2       0        1   \n7                1           1               2       1        5   \n8                0           1               1       0        5   \n9                2           1               2       0        5   \n10               0           0               2       0        6   \n11               2           0               2       0        1   \n12               0           0               0       0        7   \n13               0           1               2       0        5   \n14               0           1               1       1        4   \n15               0           1               2       0        5   \n16               0           0               3       1        6   \n17               1           1               1       0        5   \n18               0           1               0       0        4   \n19               0           1               0       0        4   \n20               0           0               0       0        7   \n21               0           0               2       0        3   \n22               0           0               2       1        1   \n23               0           0               2       0        6   \n24               0           0               0       0        1   \n25               0           0               2       1        1   \n26               0           0               0       0        7   \n27               0           0               2       1        7   \n28               0           0               2       0        0   \n29               2           0               0       1        7   \n30               0           0               0       1        6   \n31               2           0               0       0        7   \n32               0           0               0       1        0   \n33               2           0               2       0        6   \n34               0           0               2       1        7   \n35               1           0               2       0        3   \n36               0           0               3       0        1   \n37               0           0               0       0        3   \n38               2           1               0       0        5   \n39               0           1               2       0        5   \n\n    MaritalStatus  Attrition  \n0               0          0  \n1               0          0  \n2               1          1  \n3               1          0  \n4               2          1  \n5               0          0  \n6               2          0  \n7               0          0  \n8              -1          0  \n9               1          0  \n10              2          0  \n11              2          0  \n12              1          1  \n13              2          1  \n14              2          0  \n15              2          0  \n16              2          0  \n17              0          0  \n18              1          0  \n19              0          0  \n20              0          0  \n21              2          0  \n22              1          0  \n23              2          1  \n24              2          0  \n25              2          0  \n26              1          1  \n27              2          0  \n28              0          0  \n29              2          0  \n30              2          0  \n31              0          1  \n32              2          0  \n33              2          0  \n34              1          0  \n35              0          0  \n36              2          0  \n37              2          0  \n38              0          0  \n39              1          0  \n",
          "output_type": "stream"
        }
      ]
    },
    {
      "cell_type": "code",
      "source": "print('\\nBusiness Travel\\n',corr['BusinessTravel'].corr(corr['Attrition']))\nprint('\\nDepartment\\n',corr['Department'].corr(corr['Attrition']))\nprint('\\nEducationField\\n',corr['EducationField'].corr(corr['Attrition']))\nprint('\\nGender\\n',corr['Gender'].corr(corr['Attrition']))\nprint('\\nJobRole\\n',corr['JobRole'].corr(corr['Attrition']))\nprint('\\nMaritalStatus\\n',corr['MaritalStatus'].corr(corr['Attrition']))\n\n#'BusinessTravel','Department','EducationField','Gender','JobRole','MaritalStatus','Attrition'\n\"\"\"Se eliminan BusinessTravel, Department, MaritalStatus\"\"\"",
      "metadata": {
        "trusted": true
      },
      "execution_count": 21,
      "outputs": [
        {
          "name": "stdout",
          "text": "\nBusiness Travel\n -0.05625368297887143\n\nDepartment\n -0.014357683075131616\n\nEducationField\n -0.2225933779878673\n\nGender\n -0.28365431446558786\n\nJobRole\n 0.2961060384372094\n\nMaritalStatus\n 0.06871216207360595\n",
          "output_type": "stream"
        },
        {
          "execution_count": 21,
          "output_type": "execute_result",
          "data": {
            "text/plain": "'Se eliminan BusinessTravel, Department, MaritalStatus'"
          },
          "metadata": {}
        }
      ]
    },
    {
      "cell_type": "code",
      "source": "EmpleadosAttritionFinal=EmpleadosAttrition.drop(['BusinessTravel','Department','MaritalStatus'],axis=1)\nprint(EmpleadosAttritionFinal.columns)\nEmpleadosAttritionFinal.to_csv()",
      "metadata": {
        "trusted": true
      },
      "execution_count": 22,
      "outputs": [
        {
          "name": "stdout",
          "text": "Index(['Age', 'Education', 'EducationField', 'EnvironmentSatisfaction',\n       'Gender', 'JobInvolvement', 'JobLevel', 'JobRole', 'JobSatisfaction',\n       'MonthlyIncome', 'NumCompaniesWorked', 'OverTime', 'PercentSalaryHike',\n       'PerformanceRating', 'RelationshipSatisfaction', 'TotalWorkingYears',\n       'TrainingTimesLastYear', 'WorkLifeBalance', 'YearsInCurrentRole',\n       'YearsSinceLastPromotion', 'Attrition', 'YearsAtCompany',\n       'DistanceFromHome', 'MonthlyIncome_Norm'],\n      dtype='object')\n",
          "output_type": "stream"
        }
      ]
    },
    {
      "cell_type": "code",
      "source": "from sklearn.decomposition import PCA",
      "metadata": {
        "trusted": true
      },
      "execution_count": 23,
      "outputs": []
    },
    {
      "cell_type": "code",
      "source": "pca=PCA()\npca.fit(corr)\nprint(pca.components_)",
      "metadata": {
        "trusted": true
      },
      "execution_count": 25,
      "outputs": [
        {
          "name": "stdout",
          "text": "[[-0.08038459 -0.03272106  0.05278805 -0.00679231 -0.99358842 -0.00333191\n  -0.04904981]\n [-0.08148732 -0.07844249  0.79476406  0.11645785  0.05079066  0.58098639\n  -0.04323628]\n [ 0.30295294  0.18579303  0.57892304 -0.0544248   0.008587   -0.7227424\n  -0.11470053]\n [ 0.94092367 -0.04374753 -0.11829087 -0.03438427 -0.07926596  0.29798544\n  -0.04995369]\n [-0.02766599  0.37844169  0.07416433 -0.81420494 -0.02137645  0.14126424\n   0.40886907]\n [-0.03011114  0.88988572 -0.0937735   0.28616617 -0.01968657  0.16643373\n  -0.29736246]\n [ 0.09004556  0.14570006  0.04609866  0.48726414 -0.05478153 -0.06029957\n   0.85116086]]\n",
          "output_type": "stream"
        }
      ]
    },
    {
      "cell_type": "code",
      "source": "print(pca.explained_variance_)",
      "metadata": {
        "trusted": true
      },
      "execution_count": 26,
      "outputs": [
        {
          "name": "stdout",
          "text": "[5.67546479 1.204346   0.74443986 0.49019481 0.22357264 0.17836873\n 0.09386958]\n",
          "output_type": "stream"
        }
      ]
    },
    {
      "cell_type": "code",
      "source": "print(pca.explained_variance_ratio_)",
      "metadata": {
        "trusted": true
      },
      "execution_count": 27,
      "outputs": [
        {
          "name": "stdout",
          "text": "[0.65915166 0.13987342 0.08645966 0.0569315  0.02596585 0.02071584\n 0.01090207]\n",
          "output_type": "stream"
        }
      ]
    },
    {
      "cell_type": "code",
      "source": "EmpleadosAttritionFinalPCA=pca.transform(corr)\nprint(EmpleadosAttritionFinalPCA)",
      "metadata": {
        "trusted": true
      },
      "execution_count": 30,
      "outputs": [
        {
          "name": "stdout",
          "text": "[[ 3.89073273 -1.79157361 -0.03156371 -0.21113988 -0.11835198 -0.28393211\n  -0.13138428]\n [ 2.89714431 -1.74078296 -0.02297671 -0.29040584 -0.13972844 -0.30361868\n  -0.18616581]\n [ 1.87124117 -0.43592062 -0.08711657 -0.28367844  0.84163444  0.34187824\n   0.74171267]\n [ 1.01221166  0.53131286  0.42930096 -0.38753405  0.10711155 -0.36410508\n  -0.26383111]\n [-0.13933458 -0.46967449 -1.55740104  0.01781348  0.48753975 -0.32717339\n   0.38005132]\n [ 2.99592809 -0.03479699  1.08044457 -0.56137184 -0.80560471 -0.2049995\n   0.39329566]\n [ 2.99605659  1.01071794 -0.31061544  0.06898331  0.2911287  -0.15829821\n  -0.21456763]\n [-1.09153124  0.00843583  1.60353854  0.01874047 -0.54033482  0.57602879\n   0.40991517]\n [-1.05381047 -1.40228516  1.49882976 -1.06749351  0.08610753  0.24731352\n  -0.15319362]\n [-1.16845543  0.39147705  1.23817387  1.29203385  0.38746836  0.42618521\n  -0.04760299]\n [-1.97188552  1.26467122 -0.26768044 -0.32734648  0.18424643 -0.25673106\n  -0.48847527]\n [ 2.8352874   0.84774331  0.29529044  1.95083066  0.23579672 -0.21852048\n  -0.03447651]\n [-3.11676793 -0.89828891 -0.80889764 -0.51796984  0.28214616 -0.55266684\n   0.27600631]\n [-1.06006796  1.09220179 -0.20517493 -0.34178174  0.99293365  0.35547876\n   0.56316718]\n [-0.07701009  0.40634121 -0.73240924 -0.1286555  -0.28292824  1.05246746\n   0.20795333]\n [-1.01101815  1.13543807 -0.09047441 -0.29182806  0.58406458  0.65284123\n  -0.28799368]\n [-1.92588978  2.17589313  0.2568178  -0.48002162 -0.55579417 -0.06433839\n   0.04488753]\n [-1.13752698 -0.90278609  1.0790403   0.1714156   0.19970578  0.38363611\n  -0.12344764]\n [-0.11967392 -1.08586709 -0.53416508 -0.27396581  0.31584813  0.69364106\n  -0.2651099 ]\n [-0.11634201 -1.66685348  0.18857732 -0.57195125  0.1745839   0.52720732\n  -0.20481033]\n [-3.06438621 -1.43603902  0.02854529 -0.76600159 -0.26798715 -0.42173811\n  -0.51485498]\n [ 1.00887975  1.11229925 -0.29344144 -0.0895486   0.24837579 -0.19767135\n  -0.32413068]\n [ 2.99259618  0.5461894   0.35770217 -0.2633864  -0.66434048 -0.03856577\n   0.33299608]\n [-2.02093532  1.22143494 -0.38238097 -0.37730017  0.59311551 -0.55409353\n   0.36268559]\n [ 2.8904805  -0.57881017 -1.46846151  0.30556505  0.14280004  0.02924879\n  -0.30676496]\n [ 2.98926428  1.12717579 -0.36504023  0.03459904 -0.52307624  0.12786797\n   0.27269651]\n [-3.11676793 -0.89828891 -0.80889764 -0.51796984  0.28214616 -0.55266684\n   0.27600631]\n [-2.97226625  1.43191973 -0.31351823 -0.44099671 -0.65133496  0.00974854\n  -0.05599266]\n [ 3.99630883 -0.2020455   1.12628236 -0.44772161  0.02997668 -0.4714791\n  -0.03918695]\n [-3.23861153 -0.32058302 -0.86545842  1.67743237 -0.85499559  0.13707325\n   0.03190113]\n [-2.08425392 -0.20839904 -1.4799513  -0.12514902 -0.77828716  0.2169821\n  -0.09340846]\n [-3.27420521 -1.64224993  0.51975065  1.06589207  0.08554995 -0.77932285\n   0.516397  ]\n [ 3.8772766  -0.51314298 -1.53147331  0.35044674 -0.65002844  0.33510153\n   0.23528071]\n [-2.13265471  1.10169659  0.33822544  1.55450087  0.12891446 -0.31695334\n  -0.30838415]\n [-2.96893434  0.85093334  0.40922417 -0.73898215 -0.79259919 -0.1566852\n   0.00430692]\n [ 0.93515897 -0.13116084  1.4549963   0.25540419 -0.06181867 -0.56064996\n  -0.11348598]\n [ 3.04884464  1.805482    0.2683076  -0.04930755  0.36529303 -0.2520717\n  -0.16846896]\n [ 0.90330365 -0.47722886 -1.45128751  0.14703313  0.10004713 -0.01012436\n  -0.41632801]\n [-1.27069962 -1.77903746  0.8030702   1.23063014  0.09787547  0.44729847\n  -0.07950074]\n [-1.00768624  0.55445168  0.63226799 -0.5898135   0.44280034  0.48640749\n  -0.2276941 ]]\n",
          "output_type": "stream"
        }
      ]
    }
  ]
}